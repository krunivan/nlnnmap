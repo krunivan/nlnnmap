{
 "cells": [
  {
   "cell_type": "code",
   "execution_count": 1,
   "id": "cd59c6dc-2d92-44f8-98db-01685a2c2d65",
   "metadata": {},
   "outputs": [],
   "source": [
    "import numpy as np\n",
    "import matplotlib.pyplot as plt"
   ]
  },
  {
   "cell_type": "markdown",
   "id": "f1a85d9a-7b87-4828-8c4a-3093718232c4",
   "metadata": {},
   "source": [
    "### Za učitavanje FMNIST"
   ]
  },
  {
   "cell_type": "code",
   "execution_count": 2,
   "id": "0e85ef7f-e9d4-432b-8f5a-6a5cdaf63202",
   "metadata": {},
   "outputs": [],
   "source": [
    "def load_mnist(path, kind='train'):\n",
    "    import os\n",
    "    import gzip\n",
    "    import numpy as np\n",
    "\n",
    "    \"\"\"Load MNIST data from `path`\"\"\"\n",
    "    labels_path = os.path.join(path,\n",
    "                               '%s-labels-idx1-ubyte.gz'\n",
    "                               % kind)\n",
    "    images_path = os.path.join(path,\n",
    "                               '%s-images-idx3-ubyte.gz'\n",
    "                               % kind)\n",
    "\n",
    "    with gzip.open(labels_path, 'rb') as lbpath:\n",
    "        labels = np.frombuffer(lbpath.read(), dtype=np.uint8,\n",
    "                               offset=8)\n",
    "\n",
    "    with gzip.open(images_path, 'rb') as imgpath:\n",
    "        images = np.frombuffer(imgpath.read(), dtype=np.uint8,\n",
    "                               offset=16).reshape(len(labels), 784)\n",
    "\n",
    "    return images, labels"
   ]
  },
  {
   "cell_type": "markdown",
   "id": "ded93c4f-a9c9-40d2-8247-56d9df132a24",
   "metadata": {},
   "source": [
    "### Učitavanje podataka\n",
    "\n",
    "Učitamo podatke za naš problem"
   ]
  },
  {
   "cell_type": "code",
   "execution_count": 3,
   "id": "be792fd5-8fe7-4242-951b-48975afa19a3",
   "metadata": {},
   "outputs": [],
   "source": [
    "data = np.load('mnist.npz')\n",
    "\n",
    "image_train = data['x_train']/255\n",
    "image_test = data['x_test']/255\n",
    "label_train = data['y_train']\n",
    "label_test = data['y_test']\n",
    "\n",
    "#Fashion dataset\n",
    "fashion = 0\n",
    "if(fashion == 1):\n",
    "    image_train, label_train = load_mnist('data/fashion', kind='train')\n",
    "    image_test, label_test = load_mnist('data/fashion', kind='t10k')\n",
    "    image_train = image_train/255\n",
    "    image_test = image_test/255"
   ]
  },
  {
   "cell_type": "markdown",
   "id": "66ba6a59-ec26-4ec6-b666-d1c1a188d786",
   "metadata": {},
   "source": [
    "### Postavljanje parametara\n",
    "\n",
    "Postavimo parametre (da lakše pratimo i mijenjamo varijable, $m$ je problematičan zbog veličine)"
   ]
  },
  {
   "cell_type": "code",
   "execution_count": 4,
   "id": "cca757cf-cf55-4abb-abff-cbd492abf9e8",
   "metadata": {},
   "outputs": [],
   "source": [
    "d = 28**2\n",
    "d_y = 10\n",
    "m = 1000\n",
    "alfa = 0.59"
   ]
  },
  {
   "cell_type": "markdown",
   "id": "38f5e704-9922-443b-a24f-d2eac5fde9af",
   "metadata": {},
   "source": [
    "### Postavljanje podataka\n",
    "\n",
    "Definiramo matrice $X$ i $Y$ koje sadrže podatke i labele"
   ]
  },
  {
   "cell_type": "code",
   "execution_count": 5,
   "id": "12bc060a-fe7b-49ea-aaec-d294f5bfc3a0",
   "metadata": {},
   "outputs": [],
   "source": [
    "X = np.zeros((d, m))\n",
    "\n",
    "for i in range(m):\n",
    "    im = image_train[i]\n",
    "    X[:,i] = im.flatten('F').transpose()\n",
    "    \n",
    "# im = np.reshape(X[:,10], (28,28), order = 'F') Za prebacit nazad u sliku.\n",
    "\n",
    "Y = np.zeros((d_y, m))\n",
    "for i in range(m):\n",
    "    vrijednost = label_train[i]\n",
    "    Y[vrijednost, i] = 1"
   ]
  },
  {
   "cell_type": "markdown",
   "id": "8ae4031c-e4c1-41c1-bbdd-acbd05d4ecff",
   "metadata": {},
   "source": [
    "### Računanje matrice $G$"
   ]
  },
  {
   "cell_type": "code",
   "execution_count": 6,
   "id": "a86755e2-887a-4e5d-bffc-a63dd0b5959a",
   "metadata": {},
   "outputs": [],
   "source": [
    "gram = np.ones((m,m))\n",
    "\n",
    "for i in range(d):\n",
    "    theta = np.zeros((2,m))\n",
    "    redak = alfa*X[i,:]\n",
    "    theta[0,:] = np.cos(redak)\n",
    "    theta[1,:] = np.sin(redak)\n",
    "    \n",
    "    gram *= (theta.T.dot(theta))"
   ]
  },
  {
   "cell_type": "markdown",
   "id": "faad76ba-7bd3-4a87-85e7-ee7c41a5ed1c",
   "metadata": {},
   "source": [
    "### Računanje $Z$\n",
    "\n",
    "Rješavamo najmanje kvadrate da bi dobili matricu $Z$\n",
    "\n",
    "Funkcija $\\texttt{np.linalg.lstsq}(A,b)$ rješava sustav $AX = b$ pa za rješenje sustava $ZG = Y$ u varijabli $Z$ transponiramo cijeli sustav i dobijemo $G^TZ^T = Y^T$."
   ]
  },
  {
   "cell_type": "code",
   "execution_count": 7,
   "id": "ea929da3-2ff1-44ad-bf6e-675f6f0d9170",
   "metadata": {},
   "outputs": [
    {
     "name": "stderr",
     "output_type": "stream",
     "text": [
      "<ipython-input-7-294b1156d4b9>:1: FutureWarning: `rcond` parameter will change to the default of machine precision times ``max(M, N)`` where M and N are the input matrix dimensions.\n",
      "To use the future default and silence this warning we advise to pass `rcond=None`, to keep using the old, explicitly pass `rcond=-1`.\n",
      "  Z, _, _, _ = np.linalg.lstsq(gram, np.transpose(Y))\n"
     ]
    }
   ],
   "source": [
    "Z, _, _, _ = np.linalg.lstsq(gram, np.transpose(Y))\n",
    "Z = np.transpose(Z)"
   ]
  },
  {
   "cell_type": "markdown",
   "id": "7c8f5805-824b-4664-9752-46a2ab217a2b",
   "metadata": {},
   "source": [
    "### Funkcija za klasifikaciju"
   ]
  },
  {
   "cell_type": "code",
   "execution_count": 8,
   "id": "ad15ccc0-9f24-4c53-9654-cd6f8a5f2c8f",
   "metadata": {},
   "outputs": [],
   "source": [
    "def klasifikator2(vektor):\n",
    "    \n",
    "    K = np.ones((m,1))\n",
    "    \n",
    "    for i in range(d):\n",
    "        theta = np.zeros((2,m))\n",
    "        redak = alfa*X[i,:]\n",
    "        theta[0,:] = np.cos(redak)\n",
    "        theta[1,:] = np.sin(redak)\n",
    "        \n",
    "        K *= (theta.T.dot([[np.cos(alfa*vektor[i])], [np.sin(alfa*vektor[i])]]))\n",
    "  \n",
    "    rez = (Z @ K)\n",
    "\n",
    "    return np.argmax((rez))"
   ]
  },
  {
   "cell_type": "code",
   "execution_count": 9,
   "id": "23d949c1-7fce-42b8-9494-2e384efd52c2",
   "metadata": {},
   "outputs": [
    {
     "name": "stdout",
     "output_type": "stream",
     "text": [
      "Training size: 1000\n",
      "Test size: 200\n",
      "Preciznost: 0.875\n"
     ]
    }
   ],
   "source": [
    "duljina = 200\n",
    "\n",
    "X_test = np.zeros((d,duljina))\n",
    "\n",
    "for i in range(duljina):\n",
    "    im = image_test[i]\n",
    "    X_test[:,i] = im.flatten('F').transpose()\n",
    "\n",
    "prediction = np.zeros(duljina)\n",
    "prediction_matrix = np.zeros((10,10))\n",
    "for i in range(duljina):\n",
    "    prediction[i] = klasifikator2(X_test[:,i])\n",
    "    prediction_matrix[int(prediction[i]), label_test[i]] += 1\n",
    "\n",
    "print(\"Training size:\", m)\n",
    "print(\"Test size:\", duljina)\n",
    "print(\"Preciznost:\",np.sum(prediction == label_test[0:duljina])/duljina)"
   ]
  },
  {
   "cell_type": "code",
   "execution_count": 10,
   "id": "99f94fd3-bb93-46f6-96c3-19f523a976a7",
   "metadata": {},
   "outputs": [
    {
     "data": {
      "image/png": "[encoded data removed]",
      "text/plain": [
       "<Figure size 288x288 with 2 Axes>"
      ]
     },
     "metadata": {
      "needs_background": "light"
     },
     "output_type": "display_data"
    }
   ],
   "source": [
    "for i in range(10):\n",
    "    prediction_matrix[i,:] = prediction_matrix[i,:]/np.sum(prediction_matrix[i,:])\n",
    "\n",
    "plt.style.use('bmh')\n",
    "plt.matshow(prediction_matrix)\n",
    "plt.colorbar()\n",
    "plt.show()"
   ]
  },
  {
   "cell_type": "code",
   "execution_count": null,
   "id": "e8918afb-5dad-463d-a392-9a651f70578c",
   "metadata": {},
   "outputs": [],
   "source": []
  }
 ],
 "metadata": {
  "kernelspec": {
   "display_name": "Python 3",
   "language": "python",
   "name": "python3"
  },
  "language_info": {
   "codemirror_mode": {
    "name": "ipython",
    "version": 3
   },
   "file_extension": ".py",
   "mimetype": "text/x-python",
   "name": "python",
   "nbconvert_exporter": "python",
   "pygments_lexer": "ipython3",
   "version": "3.8.8"
  }
 },
 "nbformat": 4,
 "nbformat_minor": 5
}
