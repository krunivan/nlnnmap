{
 "cells": [
  {
   "cell_type": "code",
   "execution_count": 1,
   "id": "cd59c6dc-2d92-44f8-98db-01685a2c2d65",
   "metadata": {},
   "outputs": [],
   "source": [
    "import numpy as np\n",
    "import matplotlib.pyplot as plt\n",
    "import scikit_tt\n",
    "import random"
   ]
  },
  {
   "cell_type": "markdown",
   "id": "ded93c4f-a9c9-40d2-8247-56d9df132a24",
   "metadata": {},
   "source": [
    "### Učitavanje podataka\n",
    "\n",
    "Učitamo podatke za naš problem"
   ]
  },
  {
   "cell_type": "code",
   "execution_count": 2,
   "id": "be792fd5-8fe7-4242-951b-48975afa19a3",
   "metadata": {},
   "outputs": [],
   "source": [
    "data = np.load('mnist.npz')\n",
    "\n",
    "image_train = data['x_train']\n",
    "image_test = data['x_test']\n",
    "label_train = data['y_train']\n",
    "label_test = data['y_test']\n",
    "\n",
    "# Funkcija koja prima sliku i oznaku, gdje je oznaka string znamenke koju slika prikazuje\n",
    "def slika(image, lab):\n",
    "    plt.imshow(image, cmap = plt.cm.gray)\n",
    "    plt.title(\"Znamenka: \" + str(lab), fontsize = 15)"
   ]
  },
  {
   "cell_type": "markdown",
   "id": "66ba6a59-ec26-4ec6-b666-d1c1a188d786",
   "metadata": {},
   "source": [
    "### Postavljanje parametara\n",
    "\n",
    "Postavimo parametre (da lakše pratimo i mijenjamo varijable, $m$ je problematičan zbog veličine)"
   ]
  },
  {
   "cell_type": "code",
   "execution_count": 192,
   "id": "cca757cf-cf55-4abb-abff-cbd492abf9e8",
   "metadata": {},
   "outputs": [],
   "source": [
    "d = 28**2\n",
    "d_y = 10\n",
    "m = 5000\n",
    "alfa = 0.59"
   ]
  },
  {
   "cell_type": "markdown",
   "id": "38f5e704-9922-443b-a24f-d2eac5fde9af",
   "metadata": {},
   "source": [
    "### Postavljanje podataka\n",
    "\n",
    "Definiramo matrice $X$ i $Y$ koje sadrže podatke i labele"
   ]
  },
  {
   "cell_type": "code",
   "execution_count": 193,
   "id": "12bc060a-fe7b-49ea-aaec-d294f5bfc3a0",
   "metadata": {},
   "outputs": [],
   "source": [
    "X = np.zeros((d, m))\n",
    "\n",
    "for i in range(m):\n",
    "    im = image_train[i]\n",
    "    X[:,i] = im.flatten('F').transpose()\n",
    "    \n",
    "# im = np.reshape(X[:,10], (28,28), order = 'F') Za prebacit nazad u sliku.\n",
    "\n",
    "Y = np.zeros((d_y, m))\n",
    "for i in range(m):\n",
    "    vrijednost = label_train[i]\n",
    "    Y[vrijednost, i] = 1"
   ]
  },
  {
   "cell_type": "markdown",
   "id": "b5d2d959-d2a3-4af0-8422-a65d0a2b16c1",
   "metadata": {},
   "source": [
    "Definiramo odgovarajuću jezgru u našem problemu"
   ]
  },
  {
   "cell_type": "code",
   "execution_count": 194,
   "id": "dd21bf44-5dd0-4d22-b68d-0493515a36d9",
   "metadata": {},
   "outputs": [],
   "source": [
    "def jezgra(x,y):\n",
    "    return np.prod(np.cos(alfa*(x-y)))"
   ]
  },
  {
   "cell_type": "markdown",
   "id": "8ae4031c-e4c1-41c1-bbdd-acbd05d4ecff",
   "metadata": {},
   "source": [
    "### Računanje matrice $G$"
   ]
  },
  {
   "cell_type": "code",
   "execution_count": 195,
   "id": "6c087640-b5be-497b-b179-7738fcde994e",
   "metadata": {},
   "outputs": [
    {
     "ename": "KeyboardInterrupt",
     "evalue": "",
     "output_type": "error",
     "traceback": [
      "\u001b[1;31m---------------------------------------------------------------------------\u001b[0m",
      "\u001b[1;31mKeyboardInterrupt\u001b[0m                         Traceback (most recent call last)",
      "\u001b[1;32m<ipython-input-195-bf1dc9db4c64>\u001b[0m in \u001b[0;36m<module>\u001b[1;34m\u001b[0m\n\u001b[0;32m      3\u001b[0m \u001b[1;32mfor\u001b[0m \u001b[0mi\u001b[0m \u001b[1;32min\u001b[0m \u001b[0mrange\u001b[0m\u001b[1;33m(\u001b[0m\u001b[0mm\u001b[0m\u001b[1;33m)\u001b[0m\u001b[1;33m:\u001b[0m\u001b[1;33m\u001b[0m\u001b[1;33m\u001b[0m\u001b[0m\n\u001b[0;32m      4\u001b[0m     \u001b[1;32mfor\u001b[0m \u001b[0mj\u001b[0m \u001b[1;32min\u001b[0m \u001b[0mrange\u001b[0m\u001b[1;33m(\u001b[0m\u001b[0mi\u001b[0m\u001b[1;33m,\u001b[0m\u001b[0mm\u001b[0m\u001b[1;33m)\u001b[0m\u001b[1;33m:\u001b[0m\u001b[1;33m\u001b[0m\u001b[1;33m\u001b[0m\u001b[0m\n\u001b[1;32m----> 5\u001b[1;33m         \u001b[0mG\u001b[0m\u001b[1;33m[\u001b[0m\u001b[0mi\u001b[0m\u001b[1;33m,\u001b[0m\u001b[0mj\u001b[0m\u001b[1;33m]\u001b[0m \u001b[1;33m=\u001b[0m \u001b[0mjezgra\u001b[0m\u001b[1;33m(\u001b[0m\u001b[0mX\u001b[0m\u001b[1;33m[\u001b[0m\u001b[1;33m:\u001b[0m\u001b[1;33m,\u001b[0m\u001b[0mi\u001b[0m\u001b[1;33m]\u001b[0m\u001b[1;33m,\u001b[0m \u001b[0mX\u001b[0m\u001b[1;33m[\u001b[0m\u001b[1;33m:\u001b[0m\u001b[1;33m,\u001b[0m\u001b[0mj\u001b[0m\u001b[1;33m]\u001b[0m\u001b[1;33m)\u001b[0m\u001b[1;33m\u001b[0m\u001b[1;33m\u001b[0m\u001b[0m\n\u001b[0m\u001b[0;32m      6\u001b[0m         \u001b[0mG\u001b[0m\u001b[1;33m[\u001b[0m\u001b[0mj\u001b[0m\u001b[1;33m,\u001b[0m\u001b[0mi\u001b[0m\u001b[1;33m]\u001b[0m \u001b[1;33m=\u001b[0m \u001b[0mG\u001b[0m\u001b[1;33m[\u001b[0m\u001b[0mi\u001b[0m\u001b[1;33m,\u001b[0m\u001b[0mj\u001b[0m\u001b[1;33m]\u001b[0m\u001b[1;33m\u001b[0m\u001b[1;33m\u001b[0m\u001b[0m\n\u001b[0;32m      7\u001b[0m         \u001b[1;31m#for k in range(d):\u001b[0m\u001b[1;33m\u001b[0m\u001b[1;33m\u001b[0m\u001b[1;33m\u001b[0m\u001b[0m\n",
      "\u001b[1;32m<ipython-input-194-710aa35502dc>\u001b[0m in \u001b[0;36mjezgra\u001b[1;34m(x, y)\u001b[0m\n\u001b[0;32m      1\u001b[0m \u001b[1;32mdef\u001b[0m \u001b[0mjezgra\u001b[0m\u001b[1;33m(\u001b[0m\u001b[0mx\u001b[0m\u001b[1;33m,\u001b[0m\u001b[0my\u001b[0m\u001b[1;33m)\u001b[0m\u001b[1;33m:\u001b[0m\u001b[1;33m\u001b[0m\u001b[1;33m\u001b[0m\u001b[0m\n\u001b[1;32m----> 2\u001b[1;33m     \u001b[1;32mreturn\u001b[0m \u001b[0mnp\u001b[0m\u001b[1;33m.\u001b[0m\u001b[0mprod\u001b[0m\u001b[1;33m(\u001b[0m\u001b[0mnp\u001b[0m\u001b[1;33m.\u001b[0m\u001b[0mcos\u001b[0m\u001b[1;33m(\u001b[0m\u001b[0malfa\u001b[0m\u001b[1;33m*\u001b[0m\u001b[1;33m(\u001b[0m\u001b[0mx\u001b[0m\u001b[1;33m-\u001b[0m\u001b[0my\u001b[0m\u001b[1;33m)\u001b[0m\u001b[1;33m)\u001b[0m\u001b[1;33m)\u001b[0m\u001b[1;33m\u001b[0m\u001b[1;33m\u001b[0m\u001b[0m\n\u001b[0m",
      "\u001b[1;31mKeyboardInterrupt\u001b[0m: "
     ]
    }
   ],
   "source": [
    "G = np.ones((m,m))\n",
    "\n",
    "for i in range(m):\n",
    "    for j in range(i,m): \n",
    "        G[i,j] = jezgra(X[:,i], X[:,j])\n",
    "        G[j,i] = G[i,j]\n",
    "        #for k in range(d):\n",
    "        #    G[i,j] *= np.cos(alfa*(X[:,i][k] - X[:,j][k]))"
   ]
  },
  {
   "cell_type": "code",
   "execution_count": 196,
   "id": "a86755e2-887a-4e5d-bffc-a63dd0b5959a",
   "metadata": {},
   "outputs": [
    {
     "ename": "KeyboardInterrupt",
     "evalue": "",
     "output_type": "error",
     "traceback": [
      "\u001b[1;31m---------------------------------------------------------------------------\u001b[0m",
      "\u001b[1;31mKeyboardInterrupt\u001b[0m                         Traceback (most recent call last)",
      "\u001b[1;32m<ipython-input-196-f6ed54e6be66>\u001b[0m in \u001b[0;36m<module>\u001b[1;34m\u001b[0m\n\u001b[0;32m      6\u001b[0m     \u001b[0mtheta\u001b[0m\u001b[1;33m[\u001b[0m\u001b[1;36m1\u001b[0m\u001b[1;33m,\u001b[0m\u001b[1;33m:\u001b[0m\u001b[1;33m]\u001b[0m \u001b[1;33m=\u001b[0m \u001b[0mnp\u001b[0m\u001b[1;33m.\u001b[0m\u001b[0msin\u001b[0m\u001b[1;33m(\u001b[0m\u001b[0malfa\u001b[0m \u001b[1;33m*\u001b[0m \u001b[0mX\u001b[0m\u001b[1;33m[\u001b[0m\u001b[0mi\u001b[0m\u001b[1;33m,\u001b[0m\u001b[1;33m:\u001b[0m\u001b[1;33m]\u001b[0m\u001b[1;33m)\u001b[0m\u001b[1;33m\u001b[0m\u001b[1;33m\u001b[0m\u001b[0m\n\u001b[0;32m      7\u001b[0m \u001b[1;33m\u001b[0m\u001b[0m\n\u001b[1;32m----> 8\u001b[1;33m     \u001b[0mgram\u001b[0m \u001b[1;33m*=\u001b[0m \u001b[1;33m(\u001b[0m\u001b[0mtheta\u001b[0m\u001b[1;33m.\u001b[0m\u001b[0mT\u001b[0m\u001b[1;33m.\u001b[0m\u001b[0mdot\u001b[0m\u001b[1;33m(\u001b[0m\u001b[0mtheta\u001b[0m\u001b[1;33m)\u001b[0m\u001b[1;33m)\u001b[0m\u001b[1;33m\u001b[0m\u001b[1;33m\u001b[0m\u001b[0m\n\u001b[0m",
      "\u001b[1;31mKeyboardInterrupt\u001b[0m: "
     ]
    }
   ],
   "source": [
    "gram = np.ones((m,m))\n",
    "\n",
    "for i in range(d):\n",
    "    theta = np.zeros((2,m))\n",
    "    theta[0,:] = np.cos(alfa * X[i,:])\n",
    "    theta[1,:] = np.sin(alfa * X[i,:])\n",
    "    \n",
    "    gram *= (theta.T.dot(theta))"
   ]
  },
  {
   "cell_type": "markdown",
   "id": "faad76ba-7bd3-4a87-85e7-ee7c41a5ed1c",
   "metadata": {},
   "source": [
    "### Računanje $Z$\n",
    "\n",
    "Rješavamo najmanje kvadrate da bi dobili matricu $Z$\n",
    "\n",
    "Funkcija $\\texttt{np.linalg.lstsq}(A,b)$ rješava sustav $AX = b$ pa za rješenje sustava $ZG = Y$ u varijabli $Z$ transponiramo cijeli sustav i dobijemo $G^TZ^T = Y^T$."
   ]
  },
  {
   "cell_type": "code",
   "execution_count": 155,
   "id": "ea929da3-2ff1-44ad-bf6e-675f6f0d9170",
   "metadata": {},
   "outputs": [
    {
     "name": "stderr",
     "output_type": "stream",
     "text": [
      "<ipython-input-155-294b1156d4b9>:1: FutureWarning: `rcond` parameter will change to the default of machine precision times ``max(M, N)`` where M and N are the input matrix dimensions.\n",
      "To use the future default and silence this warning we advise to pass `rcond=None`, to keep using the old, explicitly pass `rcond=-1`.\n",
      "  Z, _, _, _ = np.linalg.lstsq(gram, np.transpose(Y))\n"
     ]
    }
   ],
   "source": [
    "Z, _, _, _ = np.linalg.lstsq(gram, np.transpose(Y))\n",
    "Z = np.transpose(Z)"
   ]
  },
  {
   "cell_type": "markdown",
   "id": "7c8f5805-824b-4664-9752-46a2ab217a2b",
   "metadata": {},
   "source": [
    "### Funkcija za klasifikaciju"
   ]
  },
  {
   "cell_type": "code",
   "execution_count": 156,
   "id": "a294f32b-ce24-42c1-9ac4-fd3d136d734c",
   "metadata": {},
   "outputs": [],
   "source": [
    "def klasifikator(vektor):\n",
    "    K = np.zeros(m)\n",
    "    for i in range(m):\n",
    "        K[i] = jezgra(vektor, X[:,i])\n",
    "    return np.argmax(Z@K)"
   ]
  },
  {
   "cell_type": "code",
   "execution_count": 163,
   "id": "ad15ccc0-9f24-4c53-9654-cd6f8a5f2c8f",
   "metadata": {},
   "outputs": [],
   "source": [
    "def klasifikator2(vektor):\n",
    "    K = np.array([[jezgra(vektor, X[:,i])] for i in range(m)])\n",
    "    \n",
    "    return np.argmax(Z@K)\n",
    "\n",
    "#PREBACIT DA SE RAČUNA PREKO HRPE HADAMARDOVIH PRODUKATA"
   ]
  },
  {
   "cell_type": "code",
   "execution_count": 191,
   "id": "848845cd-6dcc-4994-99ca-1f691a0227c4",
   "metadata": {},
   "outputs": [
    {
     "name": "stdout",
     "output_type": "stream",
     "text": [
      "3\n",
      "3\n"
     ]
    },
    {
     "data": {
      "text/plain": [
       "<matplotlib.image.AxesImage at 0x1abc7f3da60>"
      ]
     },
     "execution_count": 191,
     "metadata": {},
     "output_type": "execute_result"
    },
    {
     "data": {
      "image/png": "[encoded data removed]",
      "text/plain": [
       "<Figure size 432x288 with 1 Axes>"
      ]
     },
     "metadata": {
      "needs_background": "light"
     },
     "output_type": "display_data"
    }
   ],
   "source": [
    "broj = 90\n",
    "test_slika = image_test[broj]\n",
    "test_slika = test_slika.flatten('F').transpose()\n",
    "print(klasifikator(test_slika))\n",
    "print(label_test[broj])\n",
    "\n",
    "plt.imshow(image_test[broj])"
   ]
  },
  {
   "cell_type": "code",
   "execution_count": 190,
   "id": "23d949c1-7fce-42b8-9494-2e384efd52c2",
   "metadata": {},
   "outputs": [
    {
     "name": "stdout",
     "output_type": "stream",
     "text": [
      "0.38\n"
     ]
    }
   ],
   "source": [
    "duljina = 200\n",
    "\n",
    "X_test = np.zeros((d,duljina))\n",
    "\n",
    "for i in range(duljina):\n",
    "    im = image_test[i]\n",
    "    X_test[:,i] = im.flatten('F').transpose()\n",
    "\n",
    "prediction = np.zeros(duljina)\n",
    "for i in range(duljina):\n",
    "    prediction[i] = klasifikator(X_test[:,i])\n",
    "    \n",
    "print(np.sum(prediction == label_test[0:duljina])/duljina)"
   ]
  }
 ],
 "metadata": {
  "kernelspec": {
   "display_name": "Python 3",
   "language": "python",
   "name": "python3"
  },
  "language_info": {
   "codemirror_mode": {
    "name": "ipython",
    "version": 3
   },
   "file_extension": ".py",
   "mimetype": "text/x-python",
   "name": "python",
   "nbconvert_exporter": "python",
   "pygments_lexer": "ipython3",
   "version": "3.8.8"
  }
 },
 "nbformat": 4,
 "nbformat_minor": 5
}
