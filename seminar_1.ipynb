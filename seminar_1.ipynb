{
 "cells": [
  {
   "cell_type": "code",
   "execution_count": 17,
   "id": "cd59c6dc-2d92-44f8-98db-01685a2c2d65",
   "metadata": {},
   "outputs": [],
   "source": [
    "import numpy as np\n",
    "import matplotlib.pyplot as plt\n",
    "import scikit_tt.data_driven.regression as rgr\n",
    "import scikit_tt.data_driven.transform as tdt\n",
    "import random"
   ]
  },
  {
   "cell_type": "markdown",
   "id": "ded93c4f-a9c9-40d2-8247-56d9df132a24",
   "metadata": {},
   "source": [
    "### Učitavanje podataka\n",
    "\n",
    "Učitamo podatke za naš problem"
   ]
  },
  {
   "cell_type": "code",
   "execution_count": 34,
   "id": "be792fd5-8fe7-4242-951b-48975afa19a3",
   "metadata": {},
   "outputs": [],
   "source": [
    "data = np.load('mnist.npz')\n",
    "\n",
    "image_train = data['x_train']/255\n",
    "image_test = data['x_test']/255\n",
    "label_train = data['y_train']\n",
    "label_test = data['y_test']\n",
    "\n",
    "# Funkcija koja prima sliku i oznaku, gdje je oznaka string znamenke koju slika prikazuje\n",
    "def slika(image, lab):\n",
    "    plt.imshow(image, cmap = plt.cm.gray)\n",
    "    plt.title(\"Znamenka: \" + str(lab), fontsize = 15)"
   ]
  },
  {
   "cell_type": "markdown",
   "id": "66ba6a59-ec26-4ec6-b666-d1c1a188d786",
   "metadata": {},
   "source": [
    "### Postavljanje parametara\n",
    "\n",
    "Postavimo parametre (da lakše pratimo i mijenjamo varijable, $m$ je problematičan zbog veličine)"
   ]
  },
  {
   "cell_type": "code",
   "execution_count": 35,
   "id": "cca757cf-cf55-4abb-abff-cbd492abf9e8",
   "metadata": {},
   "outputs": [],
   "source": [
    "d = 28**2\n",
    "d_y = 10\n",
    "m = 2000\n",
    "alfa = 0.59"
   ]
  },
  {
   "cell_type": "markdown",
   "id": "38f5e704-9922-443b-a24f-d2eac5fde9af",
   "metadata": {},
   "source": [
    "### Postavljanje podataka\n",
    "\n",
    "Definiramo matrice $X$ i $Y$ koje sadrže podatke i labele"
   ]
  },
  {
   "cell_type": "code",
   "execution_count": 36,
   "id": "12bc060a-fe7b-49ea-aaec-d294f5bfc3a0",
   "metadata": {},
   "outputs": [],
   "source": [
    "X = np.zeros((d, m))\n",
    "\n",
    "for i in range(m):\n",
    "    im = image_train[i]\n",
    "    X[:,i] = im.flatten('F').transpose()\n",
    "    \n",
    "# im = np.reshape(X[:,10], (28,28), order = 'F') Za prebacit nazad u sliku.\n",
    "\n",
    "Y = np.zeros((d_y, m))\n",
    "for i in range(m):\n",
    "    vrijednost = label_train[i]\n",
    "    Y[vrijednost, i] = 1"
   ]
  },
  {
   "cell_type": "markdown",
   "id": "b5d2d959-d2a3-4af0-8422-a65d0a2b16c1",
   "metadata": {},
   "source": [
    "Definiramo odgovarajuću jezgru u našem problemu"
   ]
  },
  {
   "cell_type": "code",
   "execution_count": 37,
   "id": "dd21bf44-5dd0-4d22-b68d-0493515a36d9",
   "metadata": {},
   "outputs": [],
   "source": [
    "def jezgra(x,y):\n",
    "    return np.prod(np.cos(alfa*(x-y)))"
   ]
  },
  {
   "cell_type": "markdown",
   "id": "8ae4031c-e4c1-41c1-bbdd-acbd05d4ecff",
   "metadata": {},
   "source": [
    "### Računanje matrice $G$"
   ]
  },
  {
   "cell_type": "code",
   "execution_count": 38,
   "id": "a86755e2-887a-4e5d-bffc-a63dd0b5959a",
   "metadata": {},
   "outputs": [],
   "source": [
    "gram = np.ones((m,m))\n",
    "\n",
    "for i in range(d):\n",
    "    theta = np.zeros((2,m))\n",
    "    redak = alfa*X[i,:]\n",
    "    theta[0,:] = np.cos(redak)\n",
    "    theta[1,:] = np.sin(redak)\n",
    "    \n",
    "    gram *= (theta.T.dot(theta))"
   ]
  },
  {
   "cell_type": "markdown",
   "id": "faad76ba-7bd3-4a87-85e7-ee7c41a5ed1c",
   "metadata": {},
   "source": [
    "### Računanje $Z$\n",
    "\n",
    "Rješavamo najmanje kvadrate da bi dobili matricu $Z$\n",
    "\n",
    "Funkcija $\\texttt{np.linalg.lstsq}(A,b)$ rješava sustav $AX = b$ pa za rješenje sustava $ZG = Y$ u varijabli $Z$ transponiramo cijeli sustav i dobijemo $G^TZ^T = Y^T$."
   ]
  },
  {
   "cell_type": "code",
   "execution_count": 39,
   "id": "ea929da3-2ff1-44ad-bf6e-675f6f0d9170",
   "metadata": {},
   "outputs": [
    {
     "name": "stderr",
     "output_type": "stream",
     "text": [
      "<ipython-input-39-294b1156d4b9>:1: FutureWarning: `rcond` parameter will change to the default of machine precision times ``max(M, N)`` where M and N are the input matrix dimensions.\n",
      "To use the future default and silence this warning we advise to pass `rcond=None`, to keep using the old, explicitly pass `rcond=-1`.\n",
      "  Z, _, _, _ = np.linalg.lstsq(gram, np.transpose(Y))\n"
     ]
    }
   ],
   "source": [
    "Z, _, _, _ = np.linalg.lstsq(gram, np.transpose(Y))\n",
    "Z = np.transpose(Z)"
   ]
  },
  {
   "cell_type": "markdown",
   "id": "7c8f5805-824b-4664-9752-46a2ab217a2b",
   "metadata": {},
   "source": [
    "### Funkcija za klasifikaciju"
   ]
  },
  {
   "cell_type": "code",
   "execution_count": 40,
   "id": "ad15ccc0-9f24-4c53-9654-cd6f8a5f2c8f",
   "metadata": {},
   "outputs": [],
   "source": [
    "def klasifikator2(vektor):\n",
    "    \n",
    "    K = np.ones((m,1))\n",
    "    \n",
    "    for i in range(d):\n",
    "        theta = np.zeros((2,m))\n",
    "        redak = alfa*X[i,:]\n",
    "        theta[0,:] = np.cos(redak)\n",
    "        theta[1,:] = np.sin(redak)\n",
    "        \n",
    "        K *= (theta.T.dot([[np.cos(alfa*vektor[i])], [np.sin(alfa*vektor[i])]]))\n",
    "  \n",
    "    rez = (Z @ K)\n",
    "\n",
    "    return np.argmax((rez))"
   ]
  },
  {
   "cell_type": "code",
   "execution_count": 41,
   "id": "23d949c1-7fce-42b8-9494-2e384efd52c2",
   "metadata": {},
   "outputs": [
    {
     "name": "stdout",
     "output_type": "stream",
     "text": [
      "0.875\n"
     ]
    }
   ],
   "source": [
    "duljina = 200\n",
    "\n",
    "X_test = np.zeros((d,duljina))\n",
    "\n",
    "for i in range(duljina):\n",
    "    im = image_test[i]\n",
    "    X_test[:,i] = im.flatten('F').transpose()\n",
    "\n",
    "prediction = np.zeros(duljina)\n",
    "prediction_matrix = np.zeros((10,10))\n",
    "for i in range(duljina):\n",
    "    prediction[i] = klasifikator2(X_test[:,i])\n",
    "    prediction_matrix[int(prediction[i]), label_test[i]] += 1\n",
    "    \n",
    "print(np.sum(prediction == label_test[0:duljina])/duljina)"
   ]
  },
  {
   "cell_type": "code",
   "execution_count": 42,
   "id": "99f94fd3-bb93-46f6-96c3-19f523a976a7",
   "metadata": {},
   "outputs": [
    {
     "data": {
      "text/plain": [
       "<matplotlib.image.AxesImage at 0x213008b4d60>"
      ]
     },
     "execution_count": 42,
     "metadata": {},
     "output_type": "execute_result"
    },
    {
     "data": {
      "image/png": "[encoded data removed]",
      "text/plain": [
       "<Figure size 288x288 with 1 Axes>"
      ]
     },
     "metadata": {
      "needs_background": "light"
     },
     "output_type": "display_data"
    }
   ],
   "source": [
    "plt.matshow(prediction_matrix)"
   ]
  },
  {
   "cell_type": "code",
   "execution_count": 28,
   "id": "4613e82a-7f3d-4cc9-b0e1-9a11a223426b",
   "metadata": {},
   "outputs": [
    {
     "name": "stdout",
     "output_type": "stream",
     "text": [
      "0\n",
      "3\n"
     ]
    },
    {
     "data": {
      "image/png": "[encoded data removed]",
      "text/plain": [
       "<Figure size 432x288 with 1 Axes>"
      ]
     },
     "metadata": {
      "needs_background": "light"
     },
     "output_type": "display_data"
    }
   ],
   "source": [
    "broj = 112\n",
    "test_slika = image_test[broj]\n",
    "test_slika = test_slika.flatten('F').transpose()\n",
    "print(klasifikator2(test_slika))\n",
    "print(label_test[broj])\n",
    "\n",
    "slika(image_test[broj], \"\")"
   ]
  },
  {
   "cell_type": "markdown",
   "id": "9a61bd5a-5a32-4746-ac01-f8a66cae0a59",
   "metadata": {},
   "source": [
    "# Funkcije viška"
   ]
  },
  {
   "cell_type": "code",
   "execution_count": 45,
   "id": "6c087640-b5be-497b-b179-7738fcde994e",
   "metadata": {},
   "outputs": [
    {
     "ename": "KeyboardInterrupt",
     "evalue": "",
     "output_type": "error",
     "traceback": [
      "\u001b[1;31m---------------------------------------------------------------------------\u001b[0m",
      "\u001b[1;31mKeyboardInterrupt\u001b[0m                         Traceback (most recent call last)",
      "\u001b[1;32m<ipython-input-45-bf1dc9db4c64>\u001b[0m in \u001b[0;36m<module>\u001b[1;34m\u001b[0m\n\u001b[0;32m      3\u001b[0m \u001b[1;32mfor\u001b[0m \u001b[0mi\u001b[0m \u001b[1;32min\u001b[0m \u001b[0mrange\u001b[0m\u001b[1;33m(\u001b[0m\u001b[0mm\u001b[0m\u001b[1;33m)\u001b[0m\u001b[1;33m:\u001b[0m\u001b[1;33m\u001b[0m\u001b[1;33m\u001b[0m\u001b[0m\n\u001b[0;32m      4\u001b[0m     \u001b[1;32mfor\u001b[0m \u001b[0mj\u001b[0m \u001b[1;32min\u001b[0m \u001b[0mrange\u001b[0m\u001b[1;33m(\u001b[0m\u001b[0mi\u001b[0m\u001b[1;33m,\u001b[0m\u001b[0mm\u001b[0m\u001b[1;33m)\u001b[0m\u001b[1;33m:\u001b[0m\u001b[1;33m\u001b[0m\u001b[1;33m\u001b[0m\u001b[0m\n\u001b[1;32m----> 5\u001b[1;33m         \u001b[0mG\u001b[0m\u001b[1;33m[\u001b[0m\u001b[0mi\u001b[0m\u001b[1;33m,\u001b[0m\u001b[0mj\u001b[0m\u001b[1;33m]\u001b[0m \u001b[1;33m=\u001b[0m \u001b[0mjezgra\u001b[0m\u001b[1;33m(\u001b[0m\u001b[0mX\u001b[0m\u001b[1;33m[\u001b[0m\u001b[1;33m:\u001b[0m\u001b[1;33m,\u001b[0m\u001b[0mi\u001b[0m\u001b[1;33m]\u001b[0m\u001b[1;33m,\u001b[0m \u001b[0mX\u001b[0m\u001b[1;33m[\u001b[0m\u001b[1;33m:\u001b[0m\u001b[1;33m,\u001b[0m\u001b[0mj\u001b[0m\u001b[1;33m]\u001b[0m\u001b[1;33m)\u001b[0m\u001b[1;33m\u001b[0m\u001b[1;33m\u001b[0m\u001b[0m\n\u001b[0m\u001b[0;32m      6\u001b[0m         \u001b[0mG\u001b[0m\u001b[1;33m[\u001b[0m\u001b[0mj\u001b[0m\u001b[1;33m,\u001b[0m\u001b[0mi\u001b[0m\u001b[1;33m]\u001b[0m \u001b[1;33m=\u001b[0m \u001b[0mG\u001b[0m\u001b[1;33m[\u001b[0m\u001b[0mi\u001b[0m\u001b[1;33m,\u001b[0m\u001b[0mj\u001b[0m\u001b[1;33m]\u001b[0m\u001b[1;33m\u001b[0m\u001b[1;33m\u001b[0m\u001b[0m\n\u001b[0;32m      7\u001b[0m         \u001b[1;31m#for k in range(d):\u001b[0m\u001b[1;33m\u001b[0m\u001b[1;33m\u001b[0m\u001b[1;33m\u001b[0m\u001b[0m\n",
      "\u001b[1;32m<ipython-input-44-710aa35502dc>\u001b[0m in \u001b[0;36mjezgra\u001b[1;34m(x, y)\u001b[0m\n\u001b[0;32m      1\u001b[0m \u001b[1;32mdef\u001b[0m \u001b[0mjezgra\u001b[0m\u001b[1;33m(\u001b[0m\u001b[0mx\u001b[0m\u001b[1;33m,\u001b[0m\u001b[0my\u001b[0m\u001b[1;33m)\u001b[0m\u001b[1;33m:\u001b[0m\u001b[1;33m\u001b[0m\u001b[1;33m\u001b[0m\u001b[0m\n\u001b[1;32m----> 2\u001b[1;33m     \u001b[1;32mreturn\u001b[0m \u001b[0mnp\u001b[0m\u001b[1;33m.\u001b[0m\u001b[0mprod\u001b[0m\u001b[1;33m(\u001b[0m\u001b[0mnp\u001b[0m\u001b[1;33m.\u001b[0m\u001b[0mcos\u001b[0m\u001b[1;33m(\u001b[0m\u001b[0malfa\u001b[0m\u001b[1;33m*\u001b[0m\u001b[1;33m(\u001b[0m\u001b[0mx\u001b[0m\u001b[1;33m-\u001b[0m\u001b[0my\u001b[0m\u001b[1;33m)\u001b[0m\u001b[1;33m)\u001b[0m\u001b[1;33m)\u001b[0m\u001b[1;33m\u001b[0m\u001b[1;33m\u001b[0m\u001b[0m\n\u001b[0m",
      "\u001b[1;31mKeyboardInterrupt\u001b[0m: "
     ]
    }
   ],
   "source": [
    "G = np.ones((m,m))\n",
    "\n",
    "for i in range(m):\n",
    "    for j in range(i,m): \n",
    "        G[i,j] = jezgra(X[:,i], X[:,j])\n",
    "        G[j,i] = G[i,j]\n",
    "        #for k in range(d):\n",
    "        #    G[i,j] *= np.cos(alfa*(X[:,i][k] - X[:,j][k]))"
   ]
  },
  {
   "cell_type": "code",
   "execution_count": 20,
   "id": "e516f250-062a-4918-9da2-7bc76679c68f",
   "metadata": {},
   "outputs": [
    {
     "ename": "KeyboardInterrupt",
     "evalue": "",
     "output_type": "error",
     "traceback": [
      "\u001b[1;31m---------------------------------------------------------------------------\u001b[0m",
      "\u001b[1;31mKeyboardInterrupt\u001b[0m                         Traceback (most recent call last)",
      "\u001b[1;32m<ipython-input-20-f2a47ecf392d>\u001b[0m in \u001b[0;36m<module>\u001b[1;34m\u001b[0m\n\u001b[0;32m      3\u001b[0m     \u001b[0mbasis_list\u001b[0m\u001b[1;33m.\u001b[0m\u001b[0mappend\u001b[0m\u001b[1;33m(\u001b[0m\u001b[1;33m[\u001b[0m\u001b[0mtdt\u001b[0m\u001b[1;33m.\u001b[0m\u001b[0mCos\u001b[0m\u001b[1;33m(\u001b[0m\u001b[0mi\u001b[0m\u001b[1;33m,\u001b[0m \u001b[0malfa\u001b[0m\u001b[1;33m)\u001b[0m\u001b[1;33m,\u001b[0m \u001b[0mtdt\u001b[0m\u001b[1;33m.\u001b[0m\u001b[0mSin\u001b[0m\u001b[1;33m(\u001b[0m\u001b[0mi\u001b[0m\u001b[1;33m,\u001b[0m \u001b[0malfa\u001b[0m\u001b[1;33m)\u001b[0m\u001b[1;33m]\u001b[0m\u001b[1;33m)\u001b[0m\u001b[1;33m\u001b[0m\u001b[1;33m\u001b[0m\u001b[0m\n\u001b[0;32m      4\u001b[0m \u001b[1;33m\u001b[0m\u001b[0m\n\u001b[1;32m----> 5\u001b[1;33m \u001b[0mZ\u001b[0m \u001b[1;33m=\u001b[0m \u001b[0mrgr\u001b[0m\u001b[1;33m.\u001b[0m\u001b[0mmandy_kb\u001b[0m\u001b[1;33m(\u001b[0m\u001b[0mX\u001b[0m\u001b[1;33m,\u001b[0m \u001b[0mY\u001b[0m\u001b[1;33m,\u001b[0m \u001b[0mbasis_list\u001b[0m\u001b[1;33m)\u001b[0m\u001b[1;33m\u001b[0m\u001b[1;33m\u001b[0m\u001b[0m\n\u001b[0m",
      "\u001b[1;32m~\\anaconda3\\lib\\site-packages\\scikit_tt\\data_driven\\regression.py\u001b[0m in \u001b[0;36mmandy_kb\u001b[1;34m(x, y, basis_list)\u001b[0m\n\u001b[0;32m    281\u001b[0m \u001b[1;33m\u001b[0m\u001b[0m\n\u001b[0;32m    282\u001b[0m     \u001b[1;31m# compute Gram matrix\u001b[0m\u001b[1;33m\u001b[0m\u001b[1;33m\u001b[0m\u001b[1;33m\u001b[0m\u001b[0m\n\u001b[1;32m--> 283\u001b[1;33m     \u001b[0mgram\u001b[0m \u001b[1;33m=\u001b[0m \u001b[0mtdt\u001b[0m\u001b[1;33m.\u001b[0m\u001b[0mgram\u001b[0m\u001b[1;33m(\u001b[0m\u001b[0mx\u001b[0m\u001b[1;33m,\u001b[0m \u001b[0mx\u001b[0m\u001b[1;33m,\u001b[0m \u001b[0mbasis_list\u001b[0m\u001b[1;33m)\u001b[0m\u001b[1;33m\u001b[0m\u001b[1;33m\u001b[0m\u001b[0m\n\u001b[0m\u001b[0;32m    284\u001b[0m \u001b[1;33m\u001b[0m\u001b[0m\n\u001b[0;32m    285\u001b[0m     \u001b[1;31m# solve system of linear equations\u001b[0m\u001b[1;33m\u001b[0m\u001b[1;33m\u001b[0m\u001b[1;33m\u001b[0m\u001b[0m\n",
      "\u001b[1;32m~\\anaconda3\\lib\\site-packages\\scikit_tt\\data_driven\\transform.py\u001b[0m in \u001b[0;36mgram\u001b[1;34m(x_1, x_2, basis_list)\u001b[0m\n\u001b[0;32m    884\u001b[0m         \u001b[1;31m#     theta_1[k, :] = [basis_list[i][k](x_1[:, j]) for j in range(x_1.shape[1])]\u001b[0m\u001b[1;33m\u001b[0m\u001b[1;33m\u001b[0m\u001b[1;33m\u001b[0m\u001b[0m\n\u001b[0;32m    885\u001b[0m         \u001b[1;31m#     theta_2[k, :] = [basis_list[i][k](x_2[:, j]) for j in range(x_2.shape[1])]\u001b[0m\u001b[1;33m\u001b[0m\u001b[1;33m\u001b[0m\u001b[1;33m\u001b[0m\u001b[0m\n\u001b[1;32m--> 886\u001b[1;33m         \u001b[0mgram\u001b[0m \u001b[1;33m*=\u001b[0m \u001b[1;33m(\u001b[0m\u001b[0mtheta_1\u001b[0m\u001b[1;33m.\u001b[0m\u001b[0mT\u001b[0m\u001b[1;33m.\u001b[0m\u001b[0mdot\u001b[0m\u001b[1;33m(\u001b[0m\u001b[0mtheta_2\u001b[0m\u001b[1;33m)\u001b[0m\u001b[1;33m)\u001b[0m\u001b[1;33m\u001b[0m\u001b[1;33m\u001b[0m\u001b[0m\n\u001b[0m\u001b[0;32m    887\u001b[0m \u001b[1;33m\u001b[0m\u001b[0m\n\u001b[0;32m    888\u001b[0m     \u001b[1;32mreturn\u001b[0m \u001b[0mgram\u001b[0m\u001b[1;33m\u001b[0m\u001b[1;33m\u001b[0m\u001b[0m\n",
      "\u001b[1;31mKeyboardInterrupt\u001b[0m: "
     ]
    }
   ],
   "source": [
    "basis_list = []\n",
    "for i in range(d):\n",
    "    basis_list.append([tdt.Cos(i, alfa), tdt.Sin(i, alfa)])\n",
    "\n",
    "Z = rgr.mandy_kb(X, Y, basis_list)"
   ]
  },
  {
   "cell_type": "code",
   "execution_count": 9,
   "id": "a294f32b-ce24-42c1-9ac4-fd3d136d734c",
   "metadata": {},
   "outputs": [],
   "source": [
    "def klasifikator(vektor):\n",
    "    K = np.zeros(m)\n",
    "    for i in range(m):\n",
    "        K[i] = jezgra(vektor, X[:,i])\n",
    "    return np.argmax(Z@K)"
   ]
  }
 ],
 "metadata": {
  "kernelspec": {
   "display_name": "Python 3",
   "language": "python",
   "name": "python3"
  },
  "language_info": {
   "codemirror_mode": {
    "name": "ipython",
    "version": 3
   },
   "file_extension": ".py",
   "mimetype": "text/x-python",
   "name": "python",
   "nbconvert_exporter": "python",
   "pygments_lexer": "ipython3",
   "version": "3.8.8"
  }
 },
 "nbformat": 4,
 "nbformat_minor": 5
}
